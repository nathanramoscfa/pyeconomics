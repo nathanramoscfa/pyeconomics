{
 "cells": [
  {
   "cell_type": "markdown",
   "id": "intro",
   "metadata": {},
   "source": [
    "## Balanced Approach Rule and Balanced-approach (Shortfalls) Rule\n",
    "By Nathan Ramos, CFA\n",
    "\n",
    "The Balanced Approach Rule and its variant, the Balanced-approach (Shortfalls) Rule, are monetary policy guidelines that adjust nominal interest rates based on deviations in inflation and unemployment. These rules, differing from the traditional Taylor Rule, significantly emphasize unemployment metrics, with the Balanced-approach (Shortfalls) Rule specifically targeting employment shortfalls to provide stimulus during severe economic downturns without overreacting to positive conditions.\n",
    "\n",
    "In this notebook, using the pyeconomics package, we will compute and analyze these interest rates using real-time and historical data from the FRED database to see how these guidelines could influence monetary policy decisions."
   ]
  },
  {
   "cell_type": "markdown",
   "id": "import-libraries",
   "metadata": {},
   "source": [
    "## Importing Necessary Libraries\n",
    "Before we begin the computations, we need to import the necessary libraries that will enable us to fetch data, perform calculations, and visualize results. This includes libraries for data manipulation, API access, and plotting."
   ]
  },
  {
   "cell_type": "code",
   "execution_count": 1,
   "id": "import-code",
   "metadata": {},
   "outputs": [],
   "source": [
    "# Import standard libraries\n",
    "import os\n",
    "import sys\n",
    "\n",
    "# Configure system path\n",
    "sys.path.insert(0, os.path.abspath('../../'))\n",
    "\n",
    "# Import third-party libraries\n",
    "import pandas as pd\n",
    "import matplotlib.pyplot as plt\n",
    "\n",
    "# Import pyeconomics module\n",
    "import pyeconomics as pyecon\n",
    "\n",
    "# Set up display for plots in a Jupyter notebook\n",
    "%matplotlib inline"
   ]
  },
  {
   "cell_type": "markdown",
   "id": "api-access",
   "metadata": {},
   "source": [
    "## Configuring API Access to FRED\n",
    "To leverage the real-time data fetching capabilities of the pyeconomics package for Taylor Rule calculations, configure your FRED API access by securely setting up your API key. A detailed step-by-step guide on obtaining and securely storing your FRED API key with the keyring library is available in our dedicated notebook, ensuring compliance with FRED's security policies and preventing unauthorized access."
   ]
  },
  {
   "cell_type": "markdown",
   "id": "series-ids",
   "metadata": {},
   "source": [
    "## FRED Series IDs for Economic Data\n",
    "In this section, we define the series identifiers (IDs) used to fetch economic data from the FRED (Federal Reserve Economic Data) database, crucial for the calculations of the Balanced Approach Rule and its variant, the Balanced-approach (Shortfalls) Rule. These identifiers allow users to select specific data series that align with their analytical needs or data availability. The IDs provided below correspond to key economic indicators relevant to both rules:"
   ]
  },
  {
   "cell_type": "code",
   "execution_count": 2,
   "id": "series-ids-code",
   "metadata": {},
   "outputs": [
    {
     "name": "stdout",
     "output_type": "stream",
     "text": [
      "Inflation Series ID:               Trimmed Mean PCE Inflation Rate\n",
      "Unemployment Rate Series ID:       Unemployment Rate\n",
      "Natural Unemployment Series ID:    Noncyclical Rate of Unemployment\n",
      "Real Interest Rate Series ID:      Market Yield on U.S. Treasury Securities at 10-Year Constant Maturity, Quoted on an Investment Basis, Inflation-Indexed\n"
     ]
    }
   ],
   "source": [
    "# FRED Series IDs for economic data\n",
    "inflation_series_id = 'PCETRIM12M159SFRBDAL'\n",
    "unemployment_rate_series_id = 'UNRATE'\n",
    "natural_unemployment_series_id = 'NROU'\n",
    "real_interest_rate_series_id = 'DFII10'\n",
    "\n",
    "# Print the series names and their IDs\n",
    "print(f\"Inflation Series ID:               {pyecon.fred_client.get_series_name(inflation_series_id)}\")\n",
    "print(f\"Unemployment Rate Series ID:       {pyecon.fred_client.get_series_name(unemployment_rate_series_id)}\")\n",
    "print(f\"Natural Unemployment Series ID:    {pyecon.fred_client.get_series_name(natural_unemployment_series_id)}\")\n",
    "print(f\"Real Interest Rate Series ID:      {pyecon.fred_client.get_series_name(real_interest_rate_series_id)}\")"
   ]
  },
  {
   "cell_type": "markdown",
   "id": "model-assumptions",
   "metadata": {},
   "source": [
    "## Model Assumptions and Parameters\n",
    "This section outlines the assumptions and parameters used in the Balanced Approach Rule calculation. These values can be adjusted to simulate different economic conditions and policy responses:"
   ]
  },
  {
   "cell_type": "code",
   "execution_count": 3,
   "id": "set-parameters",
   "metadata": {},
   "outputs": [],
   "source": [
    "# Model Assumptions\n",
    "inflation_target = 2.0\n",
    "alpha = 0.5\n",
    "beta = 2.0\n",
    "rho = 0.70\n",
    "elb = 0.125\n",
    "apply_elb = True\n",
    "verbose = True"
   ]
  },
  {
   "cell_type": "markdown",
   "id": "current-bar-calculation",
   "metadata": {},
   "source": [
    "## Current Balanced Approach Rule Calculation Using the FRED API\n",
    "This section demonstrates the computation of the current recommended interest rate according to the Balanced Approach Rule, utilizing real-time economic indicators fetched directly from the FRED (Federal Reserve Economic Data) API. Ensure that your API credentials are correctly configured to fetch this data."
   ]
  },
  {
   "cell_type": "code",
   "execution_count": 4,
   "id": "calculate-bar",
   "metadata": {},
   "outputs": [
    {
     "name": "stdout",
     "output_type": "stream",
     "text": [
      "\n",
      "==== Economic Indicators =============================================\n",
      "  Current Inflation:                             2.79%\n",
      "  Target Inflation:                              2.00%\n",
      "  Current Unemployment Rate:                     4.00%\n",
      "  Natural Unemployment Rate:                     4.41%\n",
      "  Long-Term Real Interest Rate:                  2.03%\n",
      "  Current Fed Rate:                              5.50%\n",
      "  As of Date:                                    June 30, 2024\n",
      "\n",
      "==== Gaps ============================================================\n",
      "  Inflation Gap:                                 0.79%\n",
      "  Unemployment Gap:                              0.41%\n",
      "\n",
      "==== Balanced Approach Rule ==========================================\n",
      "  Long-Term Real Interest Rate:                  2.03%\n",
      "  Current Inflation:                             + 2.79%\n",
      "  Alpha * Inflation Gap:                         + 0.50 * 0.79%\n",
      "  Beta * Unemployment Gap:                       + 2.00 * 0.41%\n",
      "----------------------------------------------------------------------\n",
      "  Unadjusted BAR Estimate:                       6.04%\n",
      "\n",
      "==== Adjusted Balanced Approach Rule =================================\n",
      "  Effective Lower Bound (ELB) Adjustment: \n",
      "  Maximum of BAR or ELB:                         max(6.04%, 0.12%)\n",
      "----------------------------------------------------------------------\n",
      "  BAR Adjusted for ELB:                          6.04%\n",
      "\n",
      "  Policy Inertia Adjustment:              \n",
      "  Policy Inertia Coefficient (rho):              0.70\n",
      "  Current Fed Rate:                              * 5.50%\n",
      "  Adjustment Coefficient (1 - rho):              + (1 - 0.70)\n",
      "  BAR Adjusted for ELB:                          * 6.04%\n",
      "----------------------------------------------------------------------\n",
      "  Adjusted BAR Estimate:                         5.66%\n",
      "\n",
      "==== Policy Prescription =============================================\n",
      "  The Adjusted BAR Estimate is 0.16% higher than the Current Fed \n",
      "  Rate. The Fed should consider raising the interest rate by 0.25%.\n",
      "\n",
      "Note:\n",
      "-BAR stands for Balanced Approach Rule.\n"
     ]
    }
   ],
   "source": [
    "# Current Balanced Approach Rule calculation\n",
    "indicators = pyecon.EconomicIndicators(\n",
    "    inflation_series_id=inflation_series_id,\n",
    "    unemployment_rate_series_id=unemployment_rate_series_id,\n",
    "    natural_unemployment_series_id=natural_unemployment_series_id,\n",
    "    real_interest_rate_series_id=real_interest_rate_series_id\n",
    ")\n",
    "params = pyecon.BalancedApproachRuleParameters(\n",
    "    inflation_target=inflation_target,\n",
    "    alpha=alpha,\n",
    "    beta=beta,\n",
    "    rho=rho,\n",
    "    elb=elb,\n",
    "    apply_elb=apply_elb,\n",
    "    use_shortfalls_rule=False,\n",
    "    verbose=verbose\n",
    ")\n",
    "\n",
    "current_bar_rate_fred = pyecon.balanced_approach_rule(indicators, params)"
   ]
  },
  {
   "cell_type": "markdown",
   "id": "current-basr-calculation",
   "metadata": {},
   "source": [
    "## Current Balanced-approach (Shortfalls) Rule Calculation Using the FRED API\n",
    "This section demonstrates the computation of the current recommended interest rate according to the Balanced-approach (Shortfalls) Rule, utilizing real-time economic indicators fetched directly from the FRED (Federal Reserve Economic Data) API. Ensure that your API credentials are correctly configured to fetch this data."
   ]
  },
  {
   "cell_type": "code",
   "execution_count": 5,
   "id": "calculate-basr",
   "metadata": {},
   "outputs": [
    {
     "name": "stdout",
     "output_type": "stream",
     "text": [
      "\n",
      "==== Economic Indicators ==============================================\n",
      "  Current Inflation:                             2.79%\n",
      "  Target Inflation:                              2.00%\n",
      "  Current Unemployment Rate:                     4.00%\n",
      "  Natural Unemployment Rate:                     4.41%\n",
      "  Long-Term Real Interest Rate:                  2.03%\n",
      "  Current Fed Rate:                              5.50%\n",
      "  As of Date:                                    June 30, 2024\n",
      "\n",
      "==== Gaps =============================================================\n",
      "  Inflation Gap:                                 0.79%\n",
      "  Unemployment Shortfall Gap:                    0.00%\n",
      "\n",
      "==== Balanced Approach Shortfalls Rule (BASR) =========================\n",
      "  Long-Term Real Interest Rate:                  2.03%\n",
      "  Current Inflation:                             + 2.79%\n",
      "  Alpha * Inflation Gap:                         + 0.50 * 0.79%\n",
      "  Beta * Unemployment Gap:                       + 2.00 * 0.00%\n",
      "-----------------------------------------------------------------------\n",
      "  Unadjusted BASR Estimate:                      5.21%\n",
      "\n",
      "==== Adjusted Balanced Approach Shortfalls Rule (BASR) ================\n",
      "  Effective Lower Bound (ELB) Adjustment: \n",
      "  Maximum of BASR or ELB:                        max(5.21%, 0.12%)\n",
      "-----------------------------------------------------------------------\n",
      "  BASR Adjusted for ELB:                         5.21%\n",
      "\n",
      "  Policy Inertia Adjustment:              \n",
      "  Policy Inertia Coefficient (rho):              0.70\n",
      "  Current Fed Rate:                              * 5.50%\n",
      "  Adjustment Coefficient (1 - rho):              + (1 - 0.70)\n",
      "  BASR Adjusted for ELB:                         * 5.21%\n",
      "-----------------------------------------------------------------------\n",
      "  Adjusted BASR Estimate:                        5.41%\n",
      "\n",
      "==== Policy Prescription ==============================================\n",
      "  The Adjusted BASR Estimate is equal to the Current Fed Rate.\n",
      "  The Fed should maintain the current interest rate.\n",
      "\n",
      "Note:\n",
      "-BASR stands for Balanced Approach Shortfalls Rule.\n"
     ]
    }
   ],
   "source": [
    "# Current Balanced Approach (Shortfalls) Rule calculation\n",
    "params.use_shortfalls_rule = True\n",
    "current_basr_rate_fred = pyecon.balanced_approach_rule(indicators, params)"
   ]
  },
  {
   "cell_type": "markdown",
   "id": "stagflation-simulation",
   "metadata": {},
   "source": [
    "## Setting Preset Economic Indicators for Stagflation Simulation\n",
    "Users can manually input preset values for key economic indicators to compute the interest rate according to the Balanced Approach Rule (BAR) or the Balanced Approach Shortfalls Rule (BASR). These methods allow for simulations under specific economic scenarios such as stagflation, which is characterized by high inflation and unemployment alongside sluggish economic growth:"
   ]
  },
  {
   "cell_type": "code",
   "execution_count": 6,
   "id": "preset-stagflation",
   "metadata": {},
   "outputs": [
    {
     "name": "stdout",
     "output_type": "stream",
     "text": [
      "\n",
      "==== Economic Indicators =============================================\n",
      "  Current Inflation:                             6.00%\n",
      "  Target Inflation:                              2.00%\n",
      "  Current Unemployment Rate:                     6.00%\n",
      "  Natural Unemployment Rate:                     4.50%\n",
      "  Long-Term Real Interest Rate:                  2.00%\n",
      "  Current Fed Rate:                              8.00%\n",
      "  As of Date:                                    June 30, 2024\n",
      "\n",
      "==== Gaps ============================================================\n",
      "  Inflation Gap:                                 4.00%\n",
      "  Unemployment Gap:                              -1.50%\n",
      "\n",
      "==== Balanced Approach Rule ==========================================\n",
      "  Long-Term Real Interest Rate:                  2.00%\n",
      "  Current Inflation:                             + 6.00%\n",
      "  Alpha * Inflation Gap:                         + 0.50 * 4.00%\n",
      "  Beta * Unemployment Gap:                       + 2.00 * -1.50%\n",
      "----------------------------------------------------------------------\n",
      "  Unadjusted BAR Estimate:                       7.00%\n",
      "\n",
      "==== Adjusted Balanced Approach Rule =================================\n",
      "  Effective Lower Bound (ELB) Adjustment: \n",
      "  Maximum of BAR or ELB:                         max(7.00%, 0.12%)\n",
      "----------------------------------------------------------------------\n",
      "  BAR Adjusted for ELB:                          7.00%\n",
      "\n",
      "  Policy Inertia Adjustment:              \n",
      "  Policy Inertia Coefficient (rho):              0.70\n",
      "  Current Fed Rate:                              * 8.00%\n",
      "  Adjustment Coefficient (1 - rho):              + (1 - 0.70)\n",
      "  BAR Adjusted for ELB:                          * 7.00%\n",
      "----------------------------------------------------------------------\n",
      "  Adjusted BAR Estimate:                         7.70%\n",
      "\n",
      "==== Policy Prescription =============================================\n",
      "  The Adjusted BAR Estimate is 0.30% lower than the Current Fed \n",
      "  Rate. The Fed should consider lowering the interest rate by 0.25%.\n",
      "\n",
      "Note:\n",
      "-BAR stands for Balanced Approach Rule.\n"
     ]
    }
   ],
   "source": [
    "# Preset values for economic indicators in a stagflation scenario\n",
    "indicators = pyecon.EconomicIndicators(\n",
    "    current_inflation_rate=6.0,\n",
    "    current_unemployment_rate=6.0,\n",
    "    natural_unemployment_rate=4.5,\n",
    "    long_term_real_interest_rate=2.0,\n",
    "    current_fed_rate=8.0\n",
    ")\n",
    "\n",
    "# Current Balanced Approach Rule calculation\n",
    "params.use_shortfalls_rule = False\n",
    "current_bar_rate_preset = pyecon.balanced_approach_rule(indicators, params)"
   ]
  },
  {
   "cell_type": "code",
   "execution_count": 7,
   "id": "preset-basr",
   "metadata": {},
   "outputs": [
    {
     "name": "stdout",
     "output_type": "stream",
     "text": [
      "\n",
      "==== Economic Indicators ==============================================\n",
      "  Current Inflation:                             6.00%\n",
      "  Target Inflation:                              2.00%\n",
      "  Current Unemployment Rate:                     6.00%\n",
      "  Natural Unemployment Rate:                     4.50%\n",
      "  Long-Term Real Interest Rate:                  2.00%\n",
      "  Current Fed Rate:                              8.00%\n",
      "  As of Date:                                    June 30, 2024\n",
      "\n",
      "==== Gaps =============================================================\n",
      "  Inflation Gap:                                 4.00%\n",
      "  Unemployment Shortfall Gap:                    -1.50%\n",
      "\n",
      "==== Balanced Approach Shortfalls Rule (BASR) =========================\n",
      "  Long-Term Real Interest Rate:                  2.00%\n",
      "  Current Inflation:                             + 6.00%\n",
      "  Alpha * Inflation Gap:                         + 0.50 * 4.00%\n",
      "  Beta * Unemployment Gap:                       + 2.00 * -1.50%\n",
      "-----------------------------------------------------------------------\n",
      "  Unadjusted BASR Estimate:                      7.00%\n",
      "\n",
      "==== Adjusted Balanced Approach Shortfalls Rule (BASR) ================\n",
      "  Effective Lower Bound (ELB) Adjustment: \n",
      "  Maximum of BASR or ELB:                        max(7.00%, 0.12%)\n",
      "-----------------------------------------------------------------------\n",
      "  BASR Adjusted for ELB:                         7.00%\n",
      "\n",
      "  Policy Inertia Adjustment:              \n",
      "  Policy Inertia Coefficient (rho):              0.70\n",
      "  Current Fed Rate:                              * 8.00%\n",
      "  Adjustment Coefficient (1 - rho):              + (1 - 0.70)\n",
      "  BASR Adjusted for ELB:                         * 7.00%\n",
      "-----------------------------------------------------------------------\n",
      "  Adjusted BASR Estimate:                        7.70%\n",
      "\n",
      "==== Policy Prescription ==============================================\n",
      "  The Adjusted BASR Estimate is 0.30% lower than the Current Fed \n",
      "  Rate. The Fed should consider lowering the interest rate by 0.25%.\n",
      "\n",
      "Note:\n",
      "-BASR stands for Balanced Approach Shortfalls Rule.\n"
     ]
    }
   ],
   "source": [
    "# Current Balanced Approach (Shortfalls) Rule calculation\n",
    "params.use_shortfalls_rule = True\n",
    "current_basr_rate_preset = pyecon.balanced_approach_rule(indicators, params)"
   ]
  },
  {
   "cell_type": "markdown",
   "id": "policy-summary",
   "metadata": {},
   "source": [
    "## Policy Prescription Summary for Stagflation Scenario\n",
    "In the stagflation scenario characterized by a high inflation rate of 6.00% and an unemployment rate of 6.00%, both the Balanced Approach Rule (BAR) and the Balanced Approach Shortfalls Rule (BASR) suggest similar policy responses. The calculations are based on an inflation gap of 4.00% and an unemployment gap of -1.50%. Starting with a long-term real interest rate of 2.00% and adjustments for current inflation and unemployment gaps, the initial unadjusted interest rate estimates for both rules are 7.00%. This is then compared against an effective lower bound (ELB) of 0.12%, maintaining the rate at 7.00%. Further adjustments are made for policy inertia with a coefficient of 0.70 and the current Federal Funds Rate of 8.00%, leading to a final adjusted policy interest rate of 7.70% for both rules. These calculations indicate a cautious yet responsive approach to monetary policy aimed at curbing inflation while considering the high unemployment, ensuring a balanced response to the economic distress characterized by high inflation and unemployment. This aims to preserve economic stability without exacerbating unemployment issues."
   ]
  },
  {
   "cell_type": "markdown",
   "id": "historical-rates",
   "metadata": {},
   "source": [
    "## Historical Balanced Approach Rule (BAR) and Balanced Approach Shortfalls Rule (BASR) Calculations\n",
    "Now, we will compute the interest rates based on historical data sourced from the FRED API using both the Balanced Approach Rule (BAR) and the Balanced Approach Shortfalls Rule (BASR)."
   ]
  },
  {
   "cell_type": "code",
   "execution_count": 8,
   "id": "historical-bar",
   "metadata": {},
   "outputs": [
    {
     "ename": "ValueError",
     "evalue": "Data must be 1-dimensional, got ndarray of shape (15253, 1) instead",
     "output_type": "error",
     "traceback": [
      "\u001B[1;31m---------------------------------------------------------------------------\u001B[0m",
      "\u001B[1;31mValueError\u001B[0m                                Traceback (most recent call last)",
      "Cell \u001B[1;32mIn[8], line 3\u001B[0m\n\u001B[0;32m      1\u001B[0m \u001B[38;5;66;03m# Historical BAR calculation using FRED data\u001B[39;00m\n\u001B[0;32m      2\u001B[0m params\u001B[38;5;241m.\u001B[39muse_shortfalls_rule \u001B[38;5;241m=\u001B[39m \u001B[38;5;28;01mFalse\u001B[39;00m\n\u001B[1;32m----> 3\u001B[0m historical_rates \u001B[38;5;241m=\u001B[39m \u001B[43mpyecon\u001B[49m\u001B[38;5;241;43m.\u001B[39;49m\u001B[43mhistorical_balanced_approach_rule\u001B[49m\u001B[43m(\u001B[49m\u001B[43mindicators\u001B[49m\u001B[43m,\u001B[49m\u001B[43m \u001B[49m\u001B[43mparams\u001B[49m\u001B[43m)\u001B[49m\n\u001B[0;32m      4\u001B[0m historical_rates\u001B[38;5;241m.\u001B[39mhead()\n",
      "File \u001B[1;32mC:\\Code\\Python\\pyeconomics\\pyeconomics\\models\\monetary_policy\\balanced_approach_rule.py:146\u001B[0m, in \u001B[0;36mhistorical_balanced_approach_rule\u001B[1;34m(indicators, params)\u001B[0m\n\u001B[0;32m    143\u001B[0m fed_rate \u001B[38;5;241m=\u001B[39m fred\u001B[38;5;241m.\u001B[39mfetch_historical_fed_funds_rate()\n\u001B[0;32m    145\u001B[0m \u001B[38;5;66;03m# Combine into a DataFrame\u001B[39;00m\n\u001B[1;32m--> 146\u001B[0m data \u001B[38;5;241m=\u001B[39m \u001B[43mpd\u001B[49m\u001B[38;5;241;43m.\u001B[39;49m\u001B[43mDataFrame\u001B[49m\u001B[43m(\u001B[49m\u001B[43m{\u001B[49m\n\u001B[0;32m    147\u001B[0m \u001B[43m    \u001B[49m\u001B[38;5;124;43m'\u001B[39;49m\u001B[38;5;124;43mInflation\u001B[39;49m\u001B[38;5;124;43m'\u001B[39;49m\u001B[43m:\u001B[49m\u001B[43m \u001B[49m\u001B[43minflation\u001B[49m\u001B[43m,\u001B[49m\n\u001B[0;32m    148\u001B[0m \u001B[43m    \u001B[49m\u001B[38;5;124;43m'\u001B[39;49m\u001B[38;5;124;43mUnemploymentRate\u001B[39;49m\u001B[38;5;124;43m'\u001B[39;49m\u001B[43m:\u001B[49m\u001B[43m \u001B[49m\u001B[43munemployment_rate\u001B[49m\u001B[43m,\u001B[49m\n\u001B[0;32m    149\u001B[0m \u001B[43m    \u001B[49m\u001B[38;5;124;43m'\u001B[39;49m\u001B[38;5;124;43mNaturalUnemploymentRate\u001B[39;49m\u001B[38;5;124;43m'\u001B[39;49m\u001B[43m:\u001B[49m\u001B[43m \u001B[49m\u001B[43mnatural_unemployment\u001B[49m\u001B[43m,\u001B[49m\n\u001B[0;32m    150\u001B[0m \u001B[43m    \u001B[49m\u001B[38;5;124;43m'\u001B[39;49m\u001B[38;5;124;43mRealInterestRate\u001B[39;49m\u001B[38;5;124;43m'\u001B[39;49m\u001B[43m:\u001B[49m\u001B[43m \u001B[49m\u001B[43mreal_interest_rate\u001B[49m\u001B[43m,\u001B[49m\n\u001B[0;32m    151\u001B[0m \u001B[43m    \u001B[49m\u001B[38;5;124;43m'\u001B[39;49m\u001B[38;5;124;43mFedRate\u001B[39;49m\u001B[38;5;124;43m'\u001B[39;49m\u001B[43m:\u001B[49m\u001B[43m \u001B[49m\u001B[43mfed_rate\u001B[49m\n\u001B[0;32m    152\u001B[0m \u001B[43m\u001B[49m\u001B[43m}\u001B[49m\u001B[43m)\u001B[49m\n\u001B[0;32m    154\u001B[0m \u001B[38;5;66;03m# Determine the cutoff date based on RealInterestRate data\u001B[39;00m\n\u001B[0;32m    155\u001B[0m last_real_interest_date \u001B[38;5;241m=\u001B[39m data[\u001B[38;5;124m'\u001B[39m\u001B[38;5;124mRealInterestRate\u001B[39m\u001B[38;5;124m'\u001B[39m]\u001B[38;5;241m.\u001B[39mlast_valid_index()\n",
      "File \u001B[1;32m~\\anaconda3\\envs\\pyeconomics\\Lib\\site-packages\\pandas\\core\\frame.py:778\u001B[0m, in \u001B[0;36mDataFrame.__init__\u001B[1;34m(self, data, index, columns, dtype, copy)\u001B[0m\n\u001B[0;32m    772\u001B[0m     mgr \u001B[38;5;241m=\u001B[39m \u001B[38;5;28mself\u001B[39m\u001B[38;5;241m.\u001B[39m_init_mgr(\n\u001B[0;32m    773\u001B[0m         data, axes\u001B[38;5;241m=\u001B[39m{\u001B[38;5;124m\"\u001B[39m\u001B[38;5;124mindex\u001B[39m\u001B[38;5;124m\"\u001B[39m: index, \u001B[38;5;124m\"\u001B[39m\u001B[38;5;124mcolumns\u001B[39m\u001B[38;5;124m\"\u001B[39m: columns}, dtype\u001B[38;5;241m=\u001B[39mdtype, copy\u001B[38;5;241m=\u001B[39mcopy\n\u001B[0;32m    774\u001B[0m     )\n\u001B[0;32m    776\u001B[0m \u001B[38;5;28;01melif\u001B[39;00m \u001B[38;5;28misinstance\u001B[39m(data, \u001B[38;5;28mdict\u001B[39m):\n\u001B[0;32m    777\u001B[0m     \u001B[38;5;66;03m# GH#38939 de facto copy defaults to False only in non-dict cases\u001B[39;00m\n\u001B[1;32m--> 778\u001B[0m     mgr \u001B[38;5;241m=\u001B[39m \u001B[43mdict_to_mgr\u001B[49m\u001B[43m(\u001B[49m\u001B[43mdata\u001B[49m\u001B[43m,\u001B[49m\u001B[43m \u001B[49m\u001B[43mindex\u001B[49m\u001B[43m,\u001B[49m\u001B[43m \u001B[49m\u001B[43mcolumns\u001B[49m\u001B[43m,\u001B[49m\u001B[43m \u001B[49m\u001B[43mdtype\u001B[49m\u001B[38;5;241;43m=\u001B[39;49m\u001B[43mdtype\u001B[49m\u001B[43m,\u001B[49m\u001B[43m \u001B[49m\u001B[43mcopy\u001B[49m\u001B[38;5;241;43m=\u001B[39;49m\u001B[43mcopy\u001B[49m\u001B[43m,\u001B[49m\u001B[43m \u001B[49m\u001B[43mtyp\u001B[49m\u001B[38;5;241;43m=\u001B[39;49m\u001B[43mmanager\u001B[49m\u001B[43m)\u001B[49m\n\u001B[0;32m    779\u001B[0m \u001B[38;5;28;01melif\u001B[39;00m \u001B[38;5;28misinstance\u001B[39m(data, ma\u001B[38;5;241m.\u001B[39mMaskedArray):\n\u001B[0;32m    780\u001B[0m     \u001B[38;5;28;01mfrom\u001B[39;00m \u001B[38;5;21;01mnumpy\u001B[39;00m\u001B[38;5;21;01m.\u001B[39;00m\u001B[38;5;21;01mma\u001B[39;00m \u001B[38;5;28;01mimport\u001B[39;00m mrecords\n",
      "File \u001B[1;32m~\\anaconda3\\envs\\pyeconomics\\Lib\\site-packages\\pandas\\core\\internals\\construction.py:503\u001B[0m, in \u001B[0;36mdict_to_mgr\u001B[1;34m(data, index, columns, dtype, typ, copy)\u001B[0m\n\u001B[0;32m    499\u001B[0m     \u001B[38;5;28;01melse\u001B[39;00m:\n\u001B[0;32m    500\u001B[0m         \u001B[38;5;66;03m# dtype check to exclude e.g. range objects, scalars\u001B[39;00m\n\u001B[0;32m    501\u001B[0m         arrays \u001B[38;5;241m=\u001B[39m [x\u001B[38;5;241m.\u001B[39mcopy() \u001B[38;5;28;01mif\u001B[39;00m \u001B[38;5;28mhasattr\u001B[39m(x, \u001B[38;5;124m\"\u001B[39m\u001B[38;5;124mdtype\u001B[39m\u001B[38;5;124m\"\u001B[39m) \u001B[38;5;28;01melse\u001B[39;00m x \u001B[38;5;28;01mfor\u001B[39;00m x \u001B[38;5;129;01min\u001B[39;00m arrays]\n\u001B[1;32m--> 503\u001B[0m \u001B[38;5;28;01mreturn\u001B[39;00m \u001B[43marrays_to_mgr\u001B[49m\u001B[43m(\u001B[49m\u001B[43marrays\u001B[49m\u001B[43m,\u001B[49m\u001B[43m \u001B[49m\u001B[43mcolumns\u001B[49m\u001B[43m,\u001B[49m\u001B[43m \u001B[49m\u001B[43mindex\u001B[49m\u001B[43m,\u001B[49m\u001B[43m \u001B[49m\u001B[43mdtype\u001B[49m\u001B[38;5;241;43m=\u001B[39;49m\u001B[43mdtype\u001B[49m\u001B[43m,\u001B[49m\u001B[43m \u001B[49m\u001B[43mtyp\u001B[49m\u001B[38;5;241;43m=\u001B[39;49m\u001B[43mtyp\u001B[49m\u001B[43m,\u001B[49m\u001B[43m \u001B[49m\u001B[43mconsolidate\u001B[49m\u001B[38;5;241;43m=\u001B[39;49m\u001B[43mcopy\u001B[49m\u001B[43m)\u001B[49m\n",
      "File \u001B[1;32m~\\anaconda3\\envs\\pyeconomics\\Lib\\site-packages\\pandas\\core\\internals\\construction.py:119\u001B[0m, in \u001B[0;36marrays_to_mgr\u001B[1;34m(arrays, columns, index, dtype, verify_integrity, typ, consolidate)\u001B[0m\n\u001B[0;32m    116\u001B[0m         index \u001B[38;5;241m=\u001B[39m ensure_index(index)\n\u001B[0;32m    118\u001B[0m     \u001B[38;5;66;03m# don't force copy because getting jammed in an ndarray anyway\u001B[39;00m\n\u001B[1;32m--> 119\u001B[0m     arrays, refs \u001B[38;5;241m=\u001B[39m \u001B[43m_homogenize\u001B[49m\u001B[43m(\u001B[49m\u001B[43marrays\u001B[49m\u001B[43m,\u001B[49m\u001B[43m \u001B[49m\u001B[43mindex\u001B[49m\u001B[43m,\u001B[49m\u001B[43m \u001B[49m\u001B[43mdtype\u001B[49m\u001B[43m)\u001B[49m\n\u001B[0;32m    120\u001B[0m     \u001B[38;5;66;03m# _homogenize ensures\u001B[39;00m\n\u001B[0;32m    121\u001B[0m     \u001B[38;5;66;03m#  - all(len(x) == len(index) for x in arrays)\u001B[39;00m\n\u001B[0;32m    122\u001B[0m     \u001B[38;5;66;03m#  - all(x.ndim == 1 for x in arrays)\u001B[39;00m\n\u001B[1;32m   (...)\u001B[0m\n\u001B[0;32m    125\u001B[0m \n\u001B[0;32m    126\u001B[0m \u001B[38;5;28;01melse\u001B[39;00m:\n\u001B[0;32m    127\u001B[0m     index \u001B[38;5;241m=\u001B[39m ensure_index(index)\n",
      "File \u001B[1;32m~\\anaconda3\\envs\\pyeconomics\\Lib\\site-packages\\pandas\\core\\internals\\construction.py:629\u001B[0m, in \u001B[0;36m_homogenize\u001B[1;34m(data, index, dtype)\u001B[0m\n\u001B[0;32m    626\u001B[0m         val \u001B[38;5;241m=\u001B[39m \u001B[38;5;28mdict\u001B[39m(val)\n\u001B[0;32m    627\u001B[0m     val \u001B[38;5;241m=\u001B[39m lib\u001B[38;5;241m.\u001B[39mfast_multiget(val, oindex\u001B[38;5;241m.\u001B[39m_values, default\u001B[38;5;241m=\u001B[39mnp\u001B[38;5;241m.\u001B[39mnan)\n\u001B[1;32m--> 629\u001B[0m val \u001B[38;5;241m=\u001B[39m \u001B[43msanitize_array\u001B[49m\u001B[43m(\u001B[49m\u001B[43mval\u001B[49m\u001B[43m,\u001B[49m\u001B[43m \u001B[49m\u001B[43mindex\u001B[49m\u001B[43m,\u001B[49m\u001B[43m \u001B[49m\u001B[43mdtype\u001B[49m\u001B[38;5;241;43m=\u001B[39;49m\u001B[43mdtype\u001B[49m\u001B[43m,\u001B[49m\u001B[43m \u001B[49m\u001B[43mcopy\u001B[49m\u001B[38;5;241;43m=\u001B[39;49m\u001B[38;5;28;43;01mFalse\u001B[39;49;00m\u001B[43m)\u001B[49m\n\u001B[0;32m    630\u001B[0m com\u001B[38;5;241m.\u001B[39mrequire_length_match(val, index)\n\u001B[0;32m    631\u001B[0m refs\u001B[38;5;241m.\u001B[39mappend(\u001B[38;5;28;01mNone\u001B[39;00m)\n",
      "File \u001B[1;32m~\\anaconda3\\envs\\pyeconomics\\Lib\\site-packages\\pandas\\core\\construction.py:633\u001B[0m, in \u001B[0;36msanitize_array\u001B[1;34m(data, index, dtype, copy, allow_2d)\u001B[0m\n\u001B[0;32m    631\u001B[0m     \u001B[38;5;28;01melse\u001B[39;00m:\n\u001B[0;32m    632\u001B[0m         data \u001B[38;5;241m=\u001B[39m np\u001B[38;5;241m.\u001B[39marray(data, copy\u001B[38;5;241m=\u001B[39mcopy)\n\u001B[1;32m--> 633\u001B[0m     \u001B[38;5;28;01mreturn\u001B[39;00m \u001B[43msanitize_array\u001B[49m\u001B[43m(\u001B[49m\n\u001B[0;32m    634\u001B[0m \u001B[43m        \u001B[49m\u001B[43mdata\u001B[49m\u001B[43m,\u001B[49m\n\u001B[0;32m    635\u001B[0m \u001B[43m        \u001B[49m\u001B[43mindex\u001B[49m\u001B[38;5;241;43m=\u001B[39;49m\u001B[43mindex\u001B[49m\u001B[43m,\u001B[49m\n\u001B[0;32m    636\u001B[0m \u001B[43m        \u001B[49m\u001B[43mdtype\u001B[49m\u001B[38;5;241;43m=\u001B[39;49m\u001B[43mdtype\u001B[49m\u001B[43m,\u001B[49m\n\u001B[0;32m    637\u001B[0m \u001B[43m        \u001B[49m\u001B[43mcopy\u001B[49m\u001B[38;5;241;43m=\u001B[39;49m\u001B[38;5;28;43;01mFalse\u001B[39;49;00m\u001B[43m,\u001B[49m\n\u001B[0;32m    638\u001B[0m \u001B[43m        \u001B[49m\u001B[43mallow_2d\u001B[49m\u001B[38;5;241;43m=\u001B[39;49m\u001B[43mallow_2d\u001B[49m\u001B[43m,\u001B[49m\n\u001B[0;32m    639\u001B[0m \u001B[43m    \u001B[49m\u001B[43m)\u001B[49m\n\u001B[0;32m    641\u001B[0m \u001B[38;5;28;01melse\u001B[39;00m:\n\u001B[0;32m    642\u001B[0m     _sanitize_non_ordered(data)\n",
      "File \u001B[1;32m~\\anaconda3\\envs\\pyeconomics\\Lib\\site-packages\\pandas\\core\\construction.py:659\u001B[0m, in \u001B[0;36msanitize_array\u001B[1;34m(data, index, dtype, copy, allow_2d)\u001B[0m\n\u001B[0;32m    656\u001B[0m             subarr \u001B[38;5;241m=\u001B[39m cast(np\u001B[38;5;241m.\u001B[39mndarray, subarr)\n\u001B[0;32m    657\u001B[0m             subarr \u001B[38;5;241m=\u001B[39m maybe_infer_to_datetimelike(subarr)\n\u001B[1;32m--> 659\u001B[0m subarr \u001B[38;5;241m=\u001B[39m \u001B[43m_sanitize_ndim\u001B[49m\u001B[43m(\u001B[49m\u001B[43msubarr\u001B[49m\u001B[43m,\u001B[49m\u001B[43m \u001B[49m\u001B[43mdata\u001B[49m\u001B[43m,\u001B[49m\u001B[43m \u001B[49m\u001B[43mdtype\u001B[49m\u001B[43m,\u001B[49m\u001B[43m \u001B[49m\u001B[43mindex\u001B[49m\u001B[43m,\u001B[49m\u001B[43m \u001B[49m\u001B[43mallow_2d\u001B[49m\u001B[38;5;241;43m=\u001B[39;49m\u001B[43mallow_2d\u001B[49m\u001B[43m)\u001B[49m\n\u001B[0;32m    661\u001B[0m \u001B[38;5;28;01mif\u001B[39;00m \u001B[38;5;28misinstance\u001B[39m(subarr, np\u001B[38;5;241m.\u001B[39mndarray):\n\u001B[0;32m    662\u001B[0m     \u001B[38;5;66;03m# at this point we should have dtype be None or subarr.dtype == dtype\u001B[39;00m\n\u001B[0;32m    663\u001B[0m     dtype \u001B[38;5;241m=\u001B[39m cast(np\u001B[38;5;241m.\u001B[39mdtype, dtype)\n",
      "File \u001B[1;32m~\\anaconda3\\envs\\pyeconomics\\Lib\\site-packages\\pandas\\core\\construction.py:718\u001B[0m, in \u001B[0;36m_sanitize_ndim\u001B[1;34m(result, data, dtype, index, allow_2d)\u001B[0m\n\u001B[0;32m    716\u001B[0m     \u001B[38;5;28;01mif\u001B[39;00m allow_2d:\n\u001B[0;32m    717\u001B[0m         \u001B[38;5;28;01mreturn\u001B[39;00m result\n\u001B[1;32m--> 718\u001B[0m     \u001B[38;5;28;01mraise\u001B[39;00m \u001B[38;5;167;01mValueError\u001B[39;00m(\n\u001B[0;32m    719\u001B[0m         \u001B[38;5;124mf\u001B[39m\u001B[38;5;124m\"\u001B[39m\u001B[38;5;124mData must be 1-dimensional, got ndarray of shape \u001B[39m\u001B[38;5;132;01m{\u001B[39;00mdata\u001B[38;5;241m.\u001B[39mshape\u001B[38;5;132;01m}\u001B[39;00m\u001B[38;5;124m instead\u001B[39m\u001B[38;5;124m\"\u001B[39m\n\u001B[0;32m    720\u001B[0m     )\n\u001B[0;32m    721\u001B[0m \u001B[38;5;28;01mif\u001B[39;00m is_object_dtype(dtype) \u001B[38;5;129;01mand\u001B[39;00m \u001B[38;5;28misinstance\u001B[39m(dtype, ExtensionDtype):\n\u001B[0;32m    722\u001B[0m     \u001B[38;5;66;03m# i.e. NumpyEADtype(\"O\")\u001B[39;00m\n\u001B[0;32m    724\u001B[0m     result \u001B[38;5;241m=\u001B[39m com\u001B[38;5;241m.\u001B[39masarray_tuplesafe(data, dtype\u001B[38;5;241m=\u001B[39mnp\u001B[38;5;241m.\u001B[39mdtype(\u001B[38;5;124m\"\u001B[39m\u001B[38;5;124mobject\u001B[39m\u001B[38;5;124m\"\u001B[39m))\n",
      "\u001B[1;31mValueError\u001B[0m: Data must be 1-dimensional, got ndarray of shape (15253, 1) instead"
     ]
    }
   ],
   "source": [
    "# Historical BAR calculation using FRED data\n",
    "params.use_shortfalls_rule = False\n",
    "historical_rates = pyecon.historical_balanced_approach_rule(indicators, params)\n",
    "historical_rates.head()"
   ]
  },
  {
   "cell_type": "code",
   "execution_count": null,
   "id": "historical-basr",
   "metadata": {},
   "outputs": [],
   "source": [
    "# Historical BASR calculation using FRED data\n",
    "params.use_shortfalls_rule = True\n",
    "historical_basr_rates = pyecon.historical_balanced_approach_rule(indicators, params)\n",
    "historical_basr_rates.head()"
   ]
  },
  {
   "cell_type": "markdown",
   "id": "visualization",
   "metadata": {},
   "source": [
    "## Visualization of Historical BAR and BASR Data\n",
    "Plotting the historical estimates from the Balanced Approach Rule (BAR) and Balanced Approach Shortfalls Rule (BASR) provides visual insights into how recommendations for monetary policy might have changed in response to economic indicators over time."
   ]
  },
  {
   "cell_type": "code",
   "execution_count": null,
   "id": "plot-historical",
   "metadata": {},
   "outputs": [],
   "source": [
    "# Combine BAR and BASR historical rates\n",
    "historical_rates_combined = pd.concat([historical_rates, historical_basr_rates], axis=1)\n",
    "historical_rates_combined = historical_rates_combined.loc[:, ~historical_rates_combined.columns.duplicated()]\n",
    "\n",
    "# Plot BAR and BASR Rule estimates\n",
    "pyecon.plot_historical_bar_basr_rule(historical_rates_combined, adjusted=False)"
   ]
  },
  {
   "cell_type": "code",
   "execution_count": null,
   "id": "84251b00-36b2-422e-b8c6-b3e67b56af89",
   "metadata": {},
   "outputs": [],
   "source": [
    "# Adjusted Historical BAR calculation using FRED data\n",
    "params.rho = rho\n",
    "params.apply_elb = apply_elb\n",
    "params.use_shortfalls_rule = False\n",
    "adj_historical_bar_rates = pyecon.historical_balanced_approach_rule(indicators, params)\n",
    "\n",
    "# Adjusted Historical BASR calculation using FRED data\n",
    "params.use_shortfalls_rule = True\n",
    "adj_historical_basr_rates = pyecon.historical_balanced_approach_rule(indicators, params)\n",
    "\n",
    "# Combine Adjusted BAR and BASR historical rates\n",
    "adj_historical_rates_combined = pd.concat([adj_historical_bar_rates, adj_historical_basr_rates], axis=1)\n",
    "adj_historical_rates_combined = adj_historical_rates_combined.loc[:, ~adj_historical_rates_combined.columns.duplicated()]\n",
    "\n",
    "# Plot Adjusted BAR and BASR Rule estimates\n",
    "pyecon.plot_historical_bar_basr_rule(adj_historical_rates_combined, adjusted=True)"
   ]
  },
  {
   "cell_type": "markdown",
   "id": "conclusion",
   "metadata": {},
   "source": [
    "## Conclusion\n",
    "This notebook demonstrates the use of the pyeconomics package to calculate and visualize the Balanced Approach Rule (BAR) and the Balanced Approach Shortfalls Rule (BASR). These tools can aid economists, policymakers, and financial analysts in understanding and predicting central bank behavior regarding interest rates under varying economic conditions."
   ]
  }
 ],
 "metadata": {
  "kernelspec": {
   "display_name": "Python 3 (ipykernel)",
   "language": "python",
   "name": "python3"
  },
  "language_info": {
   "codemirror_mode": {
    "name": "ipython",
    "version": 3
   },
   "file_extension": ".py",
   "mimetype": "text/x-python",
   "name": "python",
   "nbconvert_exporter": "python",
   "pygments_lexer": "ipython3",
   "version": "3.12.3"
  }
 },
 "nbformat": 4,
 "nbformat_minor": 5
}
