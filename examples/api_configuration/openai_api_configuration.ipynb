{
 "cells": [
  {
   "cell_type": "markdown",
   "id": "25dbd2be-7acc-4add-b526-86f8d50e9cae",
   "metadata": {},
   "source": [
    "# Configuring Your OpenAI API Key\n",
    "\n",
    "This notebook provides detailed instructions on how to obtain and securely store your API key for accessing the OpenAI API. Proper setup will enable you to use OpenAI services seamlessly for your analyses."
   ]
  },
  {
   "cell_type": "markdown",
   "id": "f073c490-fd05-42f9-bf87-2f8e1c18f4ce",
   "metadata": {},
   "source": [
    "## Step 1: Obtain an API Key\n",
    "\n",
    "To access the OpenAI API, you first need to obtain an API key:\n",
    "\n",
    "1. Visit the [OpenAI API website](https://platform.openai.com/).\n",
    "2. Register for an account if you do not already have one.\n",
    "3. Once registered, navigate to the 'API Keys' section and generate a new API key."
   ]
  },
  {
   "cell_type": "markdown",
   "id": "4959f71c-3d09-429c-85d0-99dd1490e6e9",
   "metadata": {},
   "source": [
    "## Step 2: Install Keyring Library\n",
    "\n",
    "The `keyring` library is used to securely manage credentials in Python. To install this library, run the following command in your notebook:"
   ]
  },
  {
   "cell_type": "code",
   "execution_count": null,
   "id": "d8f7ee95-070a-46ac-abc9-4165950383cc",
   "metadata": {},
   "outputs": [],
   "source": [
    "!pip install keyring"
   ]
  },
  {
   "cell_type": "markdown",
   "id": "d8654917-7a6b-4bd0-8ef1-641c75675906",
   "metadata": {},
   "source": [
    "## Step 3: Store Your API Key Securely\n",
    "With the keyring library installed, you can now securely store your API key using the following commands:"
   ]
  },
  {
   "cell_type": "code",
   "execution_count": null,
   "id": "3b0fb27e-ebef-4104-a8e4-badc731f295f",
   "metadata": {},
   "outputs": [],
   "source": [
    "import keyring\n",
    "\n",
    "# Replace 'your_api_key_here' with the actual API key you obtained from OpenAI\n",
    "keyring.set_password('openai', 'api_key', 'your_api_key_here')"
   ]
  },
  {
   "cell_type": "markdown",
   "id": "658ef1eb-da97-432a-a7f7-743532136c41",
   "metadata": {},
   "source": [
    "## Step 4: Retrieve Your API Key\n",
    "Whenever you need to access the FRED API, you can securely retrieve your API key with:"
   ]
  },
  {
   "cell_type": "code",
   "execution_count": null,
   "id": "b6280b94-c090-4cc0-b274-4d3743d4ede8",
   "metadata": {},
   "outputs": [],
   "source": [
    "api_key = keyring.get_password('openai', 'api_key')\n",
    "print(f\"API key: {api_key}\")"
   ]
  },
  {
   "cell_type": "markdown",
   "id": "d1e1f006-4337-4778-9f26-c9cc8caa5dc3",
   "metadata": {},
   "source": [
    "## Note: Setting the API Key as an Environment Variable\n",
    "\n",
    "Alternatively, you can also set the API key as an environment variable, using\n",
    "the os package:"
   ]
  },
  {
   "cell_type": "code",
   "execution_count": null,
   "id": "5b155dc7-1299-498a-a4ca-f298a4046f80",
   "metadata": {},
   "outputs": [],
   "source": [
    "import os\n",
    "\n",
    "# Set the API key as an environment variable\n",
    "os.environ['OPENAI_API_KEY'] = 'your_api_key_here'\n",
    "\n",
    "# Now you can access the API key from the environment variable\n",
    "print(os.getenv('OPENAI_API_KEY'))"
   ]
  },
  {
   "cell_type": "markdown",
   "id": "f0858e80-27de-44ad-8be7-65764f3bd73a",
   "metadata": {},
   "source": [
    "## Conclusion\n",
    "You have now set up your API key securely. This setup will ensure that your scripts can access services from OpenAI without hardcoding sensitive information."
   ]
  }
 ],
 "metadata": {
  "kernelspec": {
   "display_name": "Python 3 (ipykernel)",
   "language": "python",
   "name": "python3"
  },
  "language_info": {
   "codemirror_mode": {
    "name": "ipython",
    "version": 3
   },
   "file_extension": ".py",
   "mimetype": "text/x-python",
   "name": "python",
   "nbconvert_exporter": "python",
   "pygments_lexer": "ipython3",
   "version": "3.12.3"
  }
 },
 "nbformat": 4,
 "nbformat_minor": 5
}
