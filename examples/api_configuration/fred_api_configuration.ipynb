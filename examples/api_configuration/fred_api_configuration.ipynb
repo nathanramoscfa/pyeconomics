{
 "cells": [
  {
   "cell_type": "markdown",
   "id": "2847a204-3487-4bf9-ad31-f0ec82e36ea4",
   "metadata": {},
   "source": [
    "# Configuring Your FRED API Key\n",
    "\n",
    "This notebook provides detailed instructions on how to obtain and securely store your API key for accessing the FRED (Federal Reserve Economic Data) API. Proper setup will enable you to fetch economic data seamlessly for your analyses."
   ]
  },
  {
   "cell_type": "markdown",
   "id": "c5f3747c-a13a-4e34-ac94-4e6bd0f1533e",
   "metadata": {},
   "source": [
    "## Step 1: Obtain an API Key\n",
    "\n",
    "To access the FRED API, you first need to obtain an API key:\n",
    "\n",
    "1. Visit the [FRED API website](https://fred.stlouisfed.org/docs/api/fred/).\n",
    "2. Register for an account if you do not already have one.\n",
    "3. Once registered, navigate to the 'API Keys' section and generate a new API key."
   ]
  },
  {
   "cell_type": "markdown",
   "id": "1eaa4f0c-1858-4382-ba50-666c3c8d8a86",
   "metadata": {},
   "source": [
    "## Step 2: Install Keyring Library\n",
    "\n",
    "The `keyring` library is used to securely manage credentials in Python. To install this library, run the following command in your notebook:"
   ]
  },
  {
   "cell_type": "code",
   "execution_count": null,
   "id": "ea8be80c-3b27-4a88-8792-6c11a769020b",
   "metadata": {},
   "outputs": [],
   "source": [
    "!pip install keyring"
   ]
  },
  {
   "cell_type": "markdown",
   "id": "64970c05-b540-48aa-98ab-705496cfd058",
   "metadata": {},
   "source": [
    "## Step 3: Store Your API Key Securely\n",
    "With the keyring library installed, you can now securely store your API key using the following commands:"
   ]
  },
  {
   "cell_type": "code",
   "execution_count": null,
   "id": "4769e941-3559-4bb5-bfa4-b927e24699c3",
   "metadata": {},
   "outputs": [],
   "source": [
    "import keyring\n",
    "\n",
    "# Replace 'your_api_key_here' with the actual API key you obtained from FRED\n",
    "keyring.set_password('fred', 'api_key', 'your_api_key_here')"
   ]
  },
  {
   "cell_type": "markdown",
   "id": "3cc66b6c-faa9-4300-8e00-875f2bc9954e",
   "metadata": {},
   "source": [
    "## Step 4: Retrieve Your API Key\n",
    "Whenever you need to access the FRED API, you can securely retrieve your API key with:"
   ]
  },
  {
   "cell_type": "code",
   "execution_count": null,
   "id": "09e8d5fc-5c96-4597-b96e-551f1b86de08",
   "metadata": {},
   "outputs": [],
   "source": [
    "api_key = keyring.get_password('fred', 'api_key')\n",
    "print(f\"API key: {api_key}\")"
   ]
  },
  {
   "cell_type": "markdown",
   "id": "a7ba59ab-6eb1-4c0f-9de6-7adf1b6f4cef",
   "metadata": {},
   "source": [
    "## Note: Setting the API Key as an Environment Variable\n",
    "\n",
    "Alternatively, you can also set the API key as an environment variable, using\n",
    "the os package:"
   ]
  },
  {
   "cell_type": "code",
   "execution_count": null,
   "id": "ab09ad9e-089a-4cee-8cf6-8b4569edfff8",
   "metadata": {},
   "outputs": [],
   "source": [
    "import os\n",
    "\n",
    "# Set the API key as an environment variable\n",
    "os.environ['FRED_API_KEY'] = 'your_api_key_here'\n",
    "\n",
    "# Now you can access the API key from the environment variable\n",
    "print(os.getenv('FRED_API_KEY'))"
   ]
  },
  {
   "cell_type": "markdown",
   "id": "935e7195-0074-43bf-9edc-e69472c864cc",
   "metadata": {},
   "source": [
    "## Conclusion\n",
    "You have now set up your API key securely. This setup will ensure that your scripts can access economic data from FRED without hardcoding sensitive information."
   ]
  },
  {
   "cell_type": "code",
   "execution_count": null,
   "id": "df10bb06-fb4c-4866-ab96-fd3c7fd13d45",
   "metadata": {},
   "outputs": [],
   "source": []
  }
 ],
 "metadata": {
  "kernelspec": {
   "display_name": "Python 3 (ipykernel)",
   "language": "python",
   "name": "python3"
  },
  "language_info": {
   "codemirror_mode": {
    "name": "ipython",
    "version": 3
   },
   "file_extension": ".py",
   "mimetype": "text/x-python",
   "name": "python",
   "nbconvert_exporter": "python",
   "pygments_lexer": "ipython3",
   "version": "3.12.3"
  }
 },
 "nbformat": 4,
 "nbformat_minor": 5
}
